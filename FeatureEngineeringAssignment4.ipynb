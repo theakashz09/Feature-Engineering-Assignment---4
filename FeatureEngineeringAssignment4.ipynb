{
  "nbformat": 4,
  "nbformat_minor": 0,
  "metadata": {
    "colab": {
      "provenance": []
    },
    "kernelspec": {
      "name": "python3",
      "display_name": "Python 3"
    },
    "language_info": {
      "name": "python"
    }
  },
  "cells": [
    {
      "cell_type": "code",
      "execution_count": null,
      "metadata": {
        "id": "SUlIx9s1y24-"
      },
      "outputs": [],
      "source": []
    },
    {
      "cell_type": "markdown",
      "source": [
        " Q1. What is the difference between Ordinal Encoding and Label Encoding? Provide an example of when you might choose one over the other.\n",
        "Ans =   Ordinal encoding and label encoding are both techniques used in machine learning to convert categorical data into numerical form so that it can be used by machine learning algorithms. However, they are used in different scenarios and have distinct characteristics.\n",
        "\n",
        "1. **Ordinal Encoding**:\n",
        "   - **Usage**: Ordinal encoding is used when the categorical data has an inherent order or hierarchy. In other words, the categories have a meaningful sequence or ranking.\n",
        "   - **Encoding Method**: Categories are assigned numerical values based on their order or rank. Lower values are assigned to categories that have a lower rank, while higher values are assigned to categories with a higher rank.\n",
        "   - **Example**: Suppose you have a dataset of education levels, with categories like \"High School,\" \"Associate's Degree,\" \"Bachelor's Degree,\" and \"Master's Degree.\" These categories have a clear order from least to most education, so you could assign values like 1, 2, 3, and 4, respectively.\n",
        "\n",
        "2. **Label Encoding**:\n",
        "   - **Usage**: Label encoding is used when the categorical data doesn't have an inherent order, and you simply want to convert categories into numerical labels.\n",
        "   - **Encoding Method**: Each unique category is assigned a unique integer label. The assignment of labels is typically done in alphabetical or numerical order.\n",
        "   - **Example**: If you have a categorical feature for car colors with categories like \"Red,\" \"Blue,\" \"Green,\" and \"Yellow,\" label encoding would assign labels like 1, 2, 3, and 4, respectively.\n",
        "\n",
        "**When to Choose One over the Other**:\n",
        "\n",
        "1. **Ordinal Encoding**:\n",
        "   - Choose ordinal encoding when there is a clear order or hierarchy among the categories in your data, and this order is meaningful for your problem. For example, when dealing with education levels, income groups, or satisfaction levels (e.g., \"Low,\" \"Medium,\" \"High\").\n",
        "   - It is important to be certain that the order you assign to the categories is meaningful for your problem, as the model may interpret the numerical values as having a mathematical relationship.\n",
        "\n",
        "2. **Label Encoding**:\n",
        "   - Choose label encoding when there is no meaningful order among the categories, and they are essentially nominal (unordered) categories. For example, when encoding categorical variables like country names, car makes, or customer IDs.\n",
        "   - Be cautious when using label encoding, as it can introduce unintended ordinal relationships that may not be appropriate for your analysis. Some machine learning algorithms may misinterpret label-encoded data as having ordinal significance."
      ],
      "metadata": {
        "id": "9tXz9WQ-y7Iy"
      }
    },
    {
      "cell_type": "code",
      "source": [],
      "metadata": {
        "id": "krr9p1SvzUnu"
      },
      "execution_count": null,
      "outputs": []
    },
    {
      "cell_type": "markdown",
      "source": [
        "Q2. Explain how Target Guided Ordinal Encoding works and provide an example of when you might use it in a machine learning project.\n",
        "Ans =\n",
        "\n",
        "**Target Guided Ordinal Encoding**, also known as Ordered Integer Encoding, is a technique used to encode categorical variables based on the relationship between the categorical feature and the target variable in a supervised machine learning problem. It assigns ordinal values to categories in a way that reflects their relationship with the target variable's mean or some other statistical measure. This can be useful when there is a clear and monotonic relationship between the categorical feature and the target variable.\n",
        "\n",
        "Here's how Target Guided Ordinal Encoding works:\n",
        "\n",
        "1. **Calculate Aggregates**: For each category in the categorical feature, calculate a summary statistic of the target variable within that category. Common statistics include the mean, median, or sum of the target variable for each category.\n",
        "\n",
        "2. **Order Categories**: Sort the categories based on their aggregated values in ascending or descending order, depending on whether a higher value of the target variable corresponds to a higher or lower category value.\n",
        "\n",
        "3. **Assign Ordinal Values**: Assign ordinal integer values to the categories based on their order. The category with the lowest aggregated value gets the lowest integer, and the one with the highest aggregated value gets the highest integer.\n",
        "\n",
        "Here's an example of when you might use Target Guided Ordinal Encoding:\n",
        "\n",
        "**Example: Loan Default Prediction**\n",
        "\n",
        "Suppose you are working on a loan default prediction problem where you have a categorical feature \"Credit Score Range\" with categories like \"Poor,\" \"Fair,\" \"Good,\" and \"Excellent.\" You suspect that there is a strong relationship between the credit score range and the likelihood of loan default.\n",
        "\n",
        "1. **Calculate Aggregates**: You calculate the default rate (the proportion of defaulted loans) for each credit score range category:\n",
        "   - Poor: 0.40\n",
        "   - Fair: 0.30\n",
        "   - Good: 0.15\n",
        "   - Excellent: 0.05\n",
        "\n",
        "2. **Order Categories**: You order the categories in descending order of the default rate:\n",
        "   - Poor (0.40)\n",
        "   - Fair (0.30)\n",
        "   - Good (0.15)\n",
        "   - Excellent (0.05)\n",
        "\n",
        "3. **Assign Ordinal Values**: Assign ordinal integers to the categories based on their order:\n",
        "   - Poor: 1\n",
        "   - Fair: 2\n",
        "   - Good: 3\n",
        "   - Excellent: 4\n",
        "\n",
        "In this case, you've used Target Guided Ordinal Encoding to convert the \"Credit Score Range\" feature into ordinal values that reflect the likelihood of loan default. This can help your machine learning model understand the relationship between credit scores and loan default and potentially improve prediction accuracy.\n",
        "\n",
        "However, it's essential to note that Target Guided Ordinal Encoding assumes a monotonic relationship between the categorical feature and the target variable. If the relationship is not monotonic, this encoding method may not be appropriate, and you should consider other techniques or feature engineering approaches. Additionally, always evaluate the impact of encoding techniques on your model's performance using cross-validation or other validation methods."
      ],
      "metadata": {
        "id": "_1qOt-LGzVN5"
      }
    },
    {
      "cell_type": "code",
      "source": [],
      "metadata": {
        "id": "7X6Ke--IzaFu"
      },
      "execution_count": null,
      "outputs": []
    },
    {
      "cell_type": "markdown",
      "source": [
        "Q3. Define covariance and explain why it is important in statistical analysis. How is covariance calculated?\n",
        "Ans =\n",
        "**Covariance** is a statistical measure that quantifies the degree to which two random variables change together. In other words, it measures the relationship between two variables and indicates whether they tend to increase or decrease simultaneously. Covariance can help you understand whether there's a linear association between two variables and in which direction they move together.\n",
        "\n",
        "**Importance of Covariance in Statistical Analysis**:\n",
        "\n",
        "1. **Relationship Assessment**: Covariance is used to assess the relationship between two variables. A positive covariance indicates that the variables tend to increase or decrease together, while a negative covariance suggests that one variable tends to increase as the other decreases.\n",
        "\n",
        "2. **Portfolio Analysis**: In finance, covariance is crucial for assessing the risk and return of a portfolio of assets. Positive covariance between two assets suggests that they tend to move in the same direction, which can increase portfolio risk, while negative covariance suggests they move in opposite directions, potentially reducing risk.\n",
        "\n",
        "3. **Linear Regression**: Covariance is used in linear regression analysis to estimate the coefficients of a linear equation that models the relationship between an independent variable and a dependent variable.\n",
        "\n",
        "4. **Multivariate Analysis**: In multivariate statistics, covariance is used in techniques like Principal Component Analysis (PCA) and Factor Analysis to understand the relationships between multiple variables.\n",
        "\n",
        "**Calculation of Covariance**:\n",
        "\n",
        "The covariance between two variables X and Y is calculated using the following formula:\n",
        "\n",
        "\\[\n",
        "\\text{Cov}(X, Y) = \\frac{1}{n} \\sum_{i=1}^{n} (X_i - \\bar{X})(Y_i - \\bar{Y})\n",
        "\\]\n",
        "\n",
        "Where:\n",
        "- \\(\\text{Cov}(X, Y)\\) is the covariance between X and Y.\n",
        "- \\(n\\) is the number of data points.\n",
        "- \\(X_i\\) and \\(Y_i\\) are the individual data points for X and Y.\n",
        "- \\(\\bar{X}\\) and \\(\\bar{Y}\\) are the means (averages) of X and Y, respectively.\n",
        "\n",
        "Here's a step-by-step breakdown of the calculation:\n",
        "\n",
        "1. Calculate the mean (\\(\\bar{X}\\)) and mean (\\(\\bar{Y}\\)) of the X and Y datasets.\n",
        "2. For each data point, subtract the mean of X (\\(\\bar{X}\\)) from the X value and subtract the mean of Y (\\(\\bar{Y}\\)) from the Y value.\n",
        "3. Multiply these differences for each data point and sum them up.\n",
        "4. Divide the sum by the number of data points (n) to obtain the covariance.\n",
        "\n",
        "The resulting covariance value can be positive, negative, or zero:\n",
        "\n",
        "- Positive covariance (\\(\\text{Cov}(X, Y) > 0\\)): Indicates that X and Y tend to increase together.\n",
        "- Negative covariance (\\(\\text{Cov}(X, Y) < 0\\)): Indicates that X tends to increase as Y decreases and vice versa.\n",
        "- Zero covariance (\\(\\text{Cov}(X, Y) = 0\\)): Indicates that there is no linear relationship between X and Y."
      ],
      "metadata": {
        "id": "R4u_9_svzbJY"
      }
    },
    {
      "cell_type": "code",
      "source": [],
      "metadata": {
        "id": "k2ZHtIlCzgIc"
      },
      "execution_count": null,
      "outputs": []
    },
    {
      "cell_type": "markdown",
      "source": [
        " Q4. For a dataset with the following categorical variables: Color (red, green, blue), Size (small, medium, large), and Material (wood, metal, plastic), perform label encoding using Python's scikit-learn library. Show your code and explain the output.\n",
        "Ans  =  Label encoding is a technique used to convert categorical variables into numerical format. Scikit-learn provides a handy `LabelEncoder` class to perform label encoding. Here's how you can perform label encoding for your dataset with the given categorical variables: Color, Size, and Material.\n",
        "\n",
        "\n"
      ],
      "metadata": {
        "id": "UGS6OolWzgkv"
      }
    },
    {
      "cell_type": "code",
      "source": [
        "import pandas as pd\n",
        "from sklearn.preprocessing import LabelEncoder\n",
        "\n",
        "# Create a sample dataset\n",
        "data = {'Color': ['red', 'green', 'blue', 'red', 'green'],\n",
        "        'Size': ['small', 'medium', 'large', 'medium', 'small'],\n",
        "        'Material': ['wood', 'metal', 'plastic', 'wood', 'metal']}\n",
        "df = pd.DataFrame(data)\n",
        "\n",
        "# Initialize LabelEncoder for each categorical column\n",
        "label_encoder_color = LabelEncoder()\n",
        "label_encoder_size = LabelEncoder()\n",
        "label_encoder_material = LabelEncoder()\n",
        "\n",
        "# Fit and transform each categorical column\n",
        "df['Color_encoded'] = label_encoder_color.fit_transform(df['Color'])\n",
        "df['Size_encoded'] = label_encoder_size.fit_transform(df['Size'])\n",
        "df['Material_encoded'] = label_encoder_material.fit_transform(df['Material'])\n",
        "\n",
        "# Display the resulting DataFrame\n",
        "print(df)"
      ],
      "metadata": {
        "colab": {
          "base_uri": "https://localhost:8080/"
        },
        "id": "Y0PnHUjwzmFY",
        "outputId": "92ff3ac7-50de-4202-b802-145499a1564d"
      },
      "execution_count": 2,
      "outputs": [
        {
          "output_type": "stream",
          "name": "stdout",
          "text": [
            "   Color    Size Material  Color_encoded  Size_encoded  Material_encoded\n",
            "0    red   small     wood              2             2                 2\n",
            "1  green  medium    metal              1             1                 0\n",
            "2   blue   large  plastic              0             0                 1\n",
            "3    red  medium     wood              2             1                 2\n",
            "4  green   small    metal              1             2                 0\n"
          ]
        }
      ]
    },
    {
      "cell_type": "markdown",
      "source": [
        "Q5. Calculate the covariance matrix for the following variables in a dataset: Age, Income, and Education level. Interpret the results."
      ],
      "metadata": {
        "id": "3o6FuyQz0CJp"
      }
    },
    {
      "cell_type": "code",
      "source": [
        "import numpy as np\n",
        "\n",
        "# Sample data for Age, Income, and Education level\n",
        "age = [30, 40, 35, 28, 45]\n",
        "income = [50000, 60000, 55000, 48000, 70000]\n",
        "education_level = [12, 16, 14, 12, 18]\n",
        "\n",
        "# Create a data matrix with these variables\n",
        "data_matrix = np.array([age, income, education_level])\n",
        "\n",
        "# Calculate the covariance matrix\n",
        "covariance_matrix = np.cov(data_matrix)\n",
        "\n",
        "# Print the covariance matrix\n",
        "print(covariance_matrix)"
      ],
      "metadata": {
        "colab": {
          "base_uri": "https://localhost:8080/"
        },
        "id": "98hakb30zxLW",
        "outputId": "62e5873c-3e27-4bd6-86c0-b1406f0f716c"
      },
      "execution_count": 3,
      "outputs": [
        {
          "output_type": "stream",
          "name": "stdout",
          "text": [
            "[[4.930e+01 6.105e+04 1.820e+01]\n",
            " [6.105e+04 7.780e+07 2.270e+04]\n",
            " [1.820e+01 2.270e+04 6.800e+00]]\n"
          ]
        }
      ]
    },
    {
      "cell_type": "markdown",
      "source": [
        "Q6. You are working on a machine learning project with a dataset containing several categorical variables, including \"Gender\" (Male/Female), \"Education Level\" (High School/Bachelor's/Master's/PhD), and \"Employment Status\" (Unemployed/Part-Time/Full-Time). Which encoding method would you use for each variable, and why?"
      ],
      "metadata": {
        "id": "ddsnwzs80Wog"
      }
    },
    {
      "cell_type": "markdown",
      "source": [
        "Ans  =\n",
        "The choice of encoding method for categorical variables in a machine learning project depends on the nature of the variables and the machine learning algorithm you plan to use. Here's a recommended encoding method for each of the categorical variables you mentioned: \"Gender,\" \"Education Level,\" and \"Employment Status.\"\n",
        "\n",
        "1. **Gender (Male/Female):**\n",
        "   - **Binary Encoding:** You can use binary encoding, where you assign 0 to one category (e.g., Male) and 1 to the other (e.g., Female). This encoding is suitable because there are only two categories, and it allows you to represent gender information efficiently.\n",
        "\n",
        "2. **Education Level (High School/Bachelor's/Master's/PhD):**\n",
        "   - **One-Hot Encoding:** Education level is ordinal in nature, meaning there is a clear order (e.g., PhD > Master's > Bachelor's > High School), but the numerical difference between levels doesn't have a meaningful interpretation. Therefore, one-hot encoding is recommended. It creates binary columns for each education level, where each column represents the presence (1) or absence (0) of that level. This encoding ensures that the algorithm doesn't assume any ordinal relationship between the levels.\n",
        "\n",
        "3. **Employment Status (Unemployed/Part-Time/Full-Time):**\n",
        "   - **Label Encoding or Ordinal Encoding:** Employment status can be considered ordinal because there is a logical order (e.g., Unemployed < Part-Time < Full-Time). In this case, you can use label encoding or ordinal encoding to assign integer values to the categories based on their order. For example:\n",
        "     - Unemployed: 0\n",
        "     - Part-Time: 1\n",
        "     - Full-Time: 2\n",
        "   - However, if you believe that the order doesn't have a strong meaning in your context, you might choose to use one-hot encoding to treat each employment status category as a separate binary feature.\n"
      ],
      "metadata": {
        "id": "EOiLeKul0cHe"
      }
    },
    {
      "cell_type": "code",
      "source": [],
      "metadata": {
        "id": "ayY_6mKw0XRy"
      },
      "execution_count": null,
      "outputs": []
    },
    {
      "cell_type": "markdown",
      "source": [
        "\n",
        " Q7. You are analyzing a dataset with two continuous variables, \"Temperature\" and \"Humidity\", and two categorical variables, \"Weather Condition\" (Sunny/Cloudy/Rainy) and \"Wind Direction\" (North/South/East/West). Calculate the covariance between each pair of variables and interpret the results."
      ],
      "metadata": {
        "id": "kDq6548z0iAX"
      }
    },
    {
      "cell_type": "code",
      "source": [
        "import pandas as pd\n",
        "import numpy as np\n",
        "\n",
        "# Sample data\n",
        "data = {\n",
        "    'Temperature': [72, 68, 75, 62, 80],\n",
        "    'Humidity': [45, 50, 55, 60, 40],\n",
        "    'Weather Condition': ['Sunny', 'Cloudy', 'Sunny', 'Rainy', 'Cloudy'],\n",
        "    'Wind Direction': ['North', 'South', 'East', 'West', 'North']\n",
        "}\n",
        "\n",
        "df = pd.DataFrame(data)\n",
        "\n",
        "# Calculate the covariance matrix for the continuous variables (Temperature and Humidity)\n",
        "cov_continuous = df[['Temperature', 'Humidity']].cov()\n",
        "\n",
        "# Calculate the covariance between the categorical and continuous variables\n",
        "cov_temp_weather = df['Temperature'].cov(df['Weather Condition'], ddof=0),\n",
        "cov_humidity_weather = df['Humidity'].cov(df['Weather Condition'], ddof=0),\n",
        "cov_temp_wind = df['Temperature'].cov(df['Wind Direction'], ddof=0),\n",
        "cov_humidity_wind = df['Humidity'].cov(df['Wind Direction'], ddof=0)\n",
        "\n",
        "# Print the covariance results\n",
        "print(\"Covariance Matrix for Continuous Variables (Temperature and Humidity):\")\n",
        "print(cov_continuous)\n",
        "\n",
        "print(\"\\nCovariance between Temperature and Weather Condition:\", cov_temp_weather)\n",
        "print(\"Covariance between Humidity and Weather Condition:\", cov_humidity_weather)\n",
        "print(\"Covariance between Temperature and Wind Direction:\", cov_temp_wind)\n",
        "print(\"Covariance between Humidity and Wind Direction:\", cov_humidity_wind)"
      ],
      "metadata": {
        "colab": {
          "base_uri": "https://localhost:8080/",
          "height": 356
        },
        "id": "ISYOKyOJ0kiq",
        "outputId": "e03d5127-d447-4f26-ed4b-69b5ab6276dd"
      },
      "execution_count": 5,
      "outputs": [
        {
          "output_type": "error",
          "ename": "ValueError",
          "evalue": "could not convert string to float: 'Sunny'",
          "traceback": [
            "\u001b[0;31m---------------------------------------------------------------------------\u001b[0m",
            "\u001b[0;31mValueError\u001b[0m                                Traceback (most recent call last)",
            "\u001b[0;32m<ipython-input-5-c55472d69314>\u001b[0m in \u001b[0;36m<cell line: 18>\u001b[0;34m()\u001b[0m\n\u001b[1;32m     16\u001b[0m \u001b[0;34m\u001b[0m\u001b[0m\n\u001b[1;32m     17\u001b[0m \u001b[0;31m# Calculate the covariance between the categorical and continuous variables\u001b[0m\u001b[0;34m\u001b[0m\u001b[0;34m\u001b[0m\u001b[0m\n\u001b[0;32m---> 18\u001b[0;31m \u001b[0mcov_temp_weather\u001b[0m \u001b[0;34m=\u001b[0m \u001b[0mdf\u001b[0m\u001b[0;34m[\u001b[0m\u001b[0;34m'Temperature'\u001b[0m\u001b[0;34m]\u001b[0m\u001b[0;34m.\u001b[0m\u001b[0mcov\u001b[0m\u001b[0;34m(\u001b[0m\u001b[0mdf\u001b[0m\u001b[0;34m[\u001b[0m\u001b[0;34m'Weather Condition'\u001b[0m\u001b[0;34m]\u001b[0m\u001b[0;34m,\u001b[0m \u001b[0mddof\u001b[0m\u001b[0;34m=\u001b[0m\u001b[0;36m0\u001b[0m\u001b[0;34m)\u001b[0m\u001b[0;34m,\u001b[0m\u001b[0;34m\u001b[0m\u001b[0;34m\u001b[0m\u001b[0m\n\u001b[0m\u001b[1;32m     19\u001b[0m \u001b[0mcov_humidity_weather\u001b[0m \u001b[0;34m=\u001b[0m \u001b[0mdf\u001b[0m\u001b[0;34m[\u001b[0m\u001b[0;34m'Humidity'\u001b[0m\u001b[0;34m]\u001b[0m\u001b[0;34m.\u001b[0m\u001b[0mcov\u001b[0m\u001b[0;34m(\u001b[0m\u001b[0mdf\u001b[0m\u001b[0;34m[\u001b[0m\u001b[0;34m'Weather Condition'\u001b[0m\u001b[0;34m]\u001b[0m\u001b[0;34m,\u001b[0m \u001b[0mddof\u001b[0m\u001b[0;34m=\u001b[0m\u001b[0;36m0\u001b[0m\u001b[0;34m)\u001b[0m\u001b[0;34m,\u001b[0m\u001b[0;34m\u001b[0m\u001b[0;34m\u001b[0m\u001b[0m\n\u001b[1;32m     20\u001b[0m \u001b[0mcov_temp_wind\u001b[0m \u001b[0;34m=\u001b[0m \u001b[0mdf\u001b[0m\u001b[0;34m[\u001b[0m\u001b[0;34m'Temperature'\u001b[0m\u001b[0;34m]\u001b[0m\u001b[0;34m.\u001b[0m\u001b[0mcov\u001b[0m\u001b[0;34m(\u001b[0m\u001b[0mdf\u001b[0m\u001b[0;34m[\u001b[0m\u001b[0;34m'Wind Direction'\u001b[0m\u001b[0;34m]\u001b[0m\u001b[0;34m,\u001b[0m \u001b[0mddof\u001b[0m\u001b[0;34m=\u001b[0m\u001b[0;36m0\u001b[0m\u001b[0;34m)\u001b[0m\u001b[0;34m,\u001b[0m\u001b[0;34m\u001b[0m\u001b[0;34m\u001b[0m\u001b[0m\n",
            "\u001b[0;32m/usr/local/lib/python3.10/dist-packages/pandas/core/series.py\u001b[0m in \u001b[0;36mcov\u001b[0;34m(self, other, min_periods, ddof)\u001b[0m\n\u001b[1;32m   3028\u001b[0m             \u001b[0;32mreturn\u001b[0m \u001b[0mnp\u001b[0m\u001b[0;34m.\u001b[0m\u001b[0mnan\u001b[0m\u001b[0;34m\u001b[0m\u001b[0;34m\u001b[0m\u001b[0m\n\u001b[1;32m   3029\u001b[0m         \u001b[0mthis_values\u001b[0m \u001b[0;34m=\u001b[0m \u001b[0mthis\u001b[0m\u001b[0;34m.\u001b[0m\u001b[0mto_numpy\u001b[0m\u001b[0;34m(\u001b[0m\u001b[0mdtype\u001b[0m\u001b[0;34m=\u001b[0m\u001b[0mfloat\u001b[0m\u001b[0;34m,\u001b[0m \u001b[0mna_value\u001b[0m\u001b[0;34m=\u001b[0m\u001b[0mnp\u001b[0m\u001b[0;34m.\u001b[0m\u001b[0mnan\u001b[0m\u001b[0;34m,\u001b[0m \u001b[0mcopy\u001b[0m\u001b[0;34m=\u001b[0m\u001b[0;32mFalse\u001b[0m\u001b[0;34m)\u001b[0m\u001b[0;34m\u001b[0m\u001b[0;34m\u001b[0m\u001b[0m\n\u001b[0;32m-> 3030\u001b[0;31m         \u001b[0mother_values\u001b[0m \u001b[0;34m=\u001b[0m \u001b[0mother\u001b[0m\u001b[0;34m.\u001b[0m\u001b[0mto_numpy\u001b[0m\u001b[0;34m(\u001b[0m\u001b[0mdtype\u001b[0m\u001b[0;34m=\u001b[0m\u001b[0mfloat\u001b[0m\u001b[0;34m,\u001b[0m \u001b[0mna_value\u001b[0m\u001b[0;34m=\u001b[0m\u001b[0mnp\u001b[0m\u001b[0;34m.\u001b[0m\u001b[0mnan\u001b[0m\u001b[0;34m,\u001b[0m \u001b[0mcopy\u001b[0m\u001b[0;34m=\u001b[0m\u001b[0;32mFalse\u001b[0m\u001b[0;34m)\u001b[0m\u001b[0;34m\u001b[0m\u001b[0;34m\u001b[0m\u001b[0m\n\u001b[0m\u001b[1;32m   3031\u001b[0m         return nanops.nancov(\n\u001b[1;32m   3032\u001b[0m             \u001b[0mthis_values\u001b[0m\u001b[0;34m,\u001b[0m \u001b[0mother_values\u001b[0m\u001b[0;34m,\u001b[0m \u001b[0mmin_periods\u001b[0m\u001b[0;34m=\u001b[0m\u001b[0mmin_periods\u001b[0m\u001b[0;34m,\u001b[0m \u001b[0mddof\u001b[0m\u001b[0;34m=\u001b[0m\u001b[0mddof\u001b[0m\u001b[0;34m\u001b[0m\u001b[0;34m\u001b[0m\u001b[0m\n",
            "\u001b[0;32m/usr/local/lib/python3.10/dist-packages/pandas/core/base.py\u001b[0m in \u001b[0;36mto_numpy\u001b[0;34m(self, dtype, copy, na_value, **kwargs)\u001b[0m\n\u001b[1;32m    660\u001b[0m             \u001b[0mvalues\u001b[0m\u001b[0;34m[\u001b[0m\u001b[0mnp\u001b[0m\u001b[0;34m.\u001b[0m\u001b[0masanyarray\u001b[0m\u001b[0;34m(\u001b[0m\u001b[0misna\u001b[0m\u001b[0;34m(\u001b[0m\u001b[0mself\u001b[0m\u001b[0;34m)\u001b[0m\u001b[0;34m)\u001b[0m\u001b[0;34m]\u001b[0m \u001b[0;34m=\u001b[0m \u001b[0mna_value\u001b[0m\u001b[0;34m\u001b[0m\u001b[0;34m\u001b[0m\u001b[0m\n\u001b[1;32m    661\u001b[0m \u001b[0;34m\u001b[0m\u001b[0m\n\u001b[0;32m--> 662\u001b[0;31m         \u001b[0mresult\u001b[0m \u001b[0;34m=\u001b[0m \u001b[0mnp\u001b[0m\u001b[0;34m.\u001b[0m\u001b[0masarray\u001b[0m\u001b[0;34m(\u001b[0m\u001b[0mvalues\u001b[0m\u001b[0;34m,\u001b[0m \u001b[0mdtype\u001b[0m\u001b[0;34m=\u001b[0m\u001b[0mdtype\u001b[0m\u001b[0;34m)\u001b[0m\u001b[0;34m\u001b[0m\u001b[0;34m\u001b[0m\u001b[0m\n\u001b[0m\u001b[1;32m    663\u001b[0m \u001b[0;34m\u001b[0m\u001b[0m\n\u001b[1;32m    664\u001b[0m         \u001b[0;32mif\u001b[0m \u001b[0;34m(\u001b[0m\u001b[0mcopy\u001b[0m \u001b[0;32mand\u001b[0m \u001b[0;32mnot\u001b[0m \u001b[0mfillna\u001b[0m\u001b[0;34m)\u001b[0m \u001b[0;32mor\u001b[0m \u001b[0;34m(\u001b[0m\u001b[0;32mnot\u001b[0m \u001b[0mcopy\u001b[0m \u001b[0;32mand\u001b[0m \u001b[0musing_copy_on_write\u001b[0m\u001b[0;34m(\u001b[0m\u001b[0;34m)\u001b[0m\u001b[0;34m)\u001b[0m\u001b[0;34m:\u001b[0m\u001b[0;34m\u001b[0m\u001b[0;34m\u001b[0m\u001b[0m\n",
            "\u001b[0;31mValueError\u001b[0m: could not convert string to float: 'Sunny'"
          ]
        }
      ]
    },
    {
      "cell_type": "code",
      "source": [],
      "metadata": {
        "id": "QropE_pt0osL"
      },
      "execution_count": null,
      "outputs": []
    }
  ]
}